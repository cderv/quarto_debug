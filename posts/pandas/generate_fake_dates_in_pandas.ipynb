{
 "cells": [
  {
   "cell_type": "raw",
   "id": "10e8b926",
   "metadata": {},
   "source": [
    "---\n",
    "title: \"Generating random days between two dates\"\n",
    "date: \"2022-07-30\"\n",
    "categories: [cheatsheet, pandas]\n",
    "draft: false\n",
    "freeze: true\n",
    "---"
   ]
  },
  {
   "cell_type": "markdown",
   "id": "1b77af42",
   "metadata": {},
   "source": [
    "Empty "
   ]
  }
 ],
 "metadata": {
  "hide_input": false,
  "kernelspec": {
   "display_name": "Python 3 (ipykernel)",
   "language": "python",
   "name": "python3"
  },
  "language_info": {
   "codemirror_mode": {
    "name": "ipython",
    "version": 3
   },
   "file_extension": ".py",
   "mimetype": "text/x-python",
   "name": "python",
   "nbconvert_exporter": "python",
   "pygments_lexer": "ipython3",
   "version": "3.8.10"
  }
 },
 "nbformat": 4,
 "nbformat_minor": 5
}
